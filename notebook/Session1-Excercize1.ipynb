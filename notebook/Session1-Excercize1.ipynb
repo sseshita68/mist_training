Write a Python program to find the title tags from a given html document.
Sample Solution 
Title of the document:
<title>An example of HTML page</title>
